{
  "nbformat": 4,
  "nbformat_minor": 0,
  "metadata": {
    "kernelspec": {
      "display_name": "Python 3",
      "language": "python",
      "name": "python3"
    },
    "language_info": {
      "codemirror_mode": {
        "name": "ipython",
        "version": 3
      },
      "file_extension": ".py",
      "mimetype": "text/x-python",
      "name": "python",
      "nbconvert_exporter": "python",
      "pygments_lexer": "ipython3",
      "version": "3.6.1"
    },
    "colab": {
      "provenance": []
    }
  },
  "cells": [
    {
      "cell_type": "markdown",
      "metadata": {
        "id": "mWtL93Z5uVBc"
      },
      "source": [
        "# NumPy \n",
        "\n",
        "NumPy (ou Numpy) é uma biblioteca de álgebra linear para Python, a razão pela qual é tão importante para a Data Science com Python é que quase todas as bibliotecas dependem do NumPy como um dos seus principais blocos de construção.\n",
        "\n",
        "Numpy também é incrivelmente rápido, pois tem ligações para bibliotecas C. Para obter mais informações sobre por que você deseja usar Arrays em vez de listas, confira esta excelente publicação do [StackOverflow post](http://stackoverflow.com/questions/993984/why-numpy-instead-of-python-lists)."
      ]
    },
    {
      "cell_type": "markdown",
      "metadata": {
        "id": "lFmd2ekTuVBp"
      },
      "source": [
        "## Usando NumPy\n",
        "\n",
        "Você pode importar o numpy como uma biblioteca:"
      ]
    },
    {
      "cell_type": "code",
      "metadata": {
        "id": "FNmfR7EmuVBu"
      },
      "source": [
        "import numpy as np"
      ],
      "execution_count": null,
      "outputs": []
    },
    {
      "cell_type": "markdown",
      "metadata": {
        "id": "8-DfOGLGuVB-"
      },
      "source": [
        "Numpy possui muitas funções e capacidades incorporadas. Não vamos cobri-los na totalidade, mas, em vez disso, vamos nos concentrar em alguns dos aspectos mais importantes de Numpy: vetores, arrays, matrizes e geração de números. Comecemos por arrays:\n",
        "\n",
        "# Numpy Arrays\n",
        "\n",
        "As matrizes de NumPy são a maneira principal de usar Numpy ao longo do curso. Numpy arrays essencialmente vêm de duas formas: vetores e matrizes. Os vetores são estritamente arranjos de 1d e as matrizes são 2d (mas você deve observar que uma matriz ainda pode ter apenas uma linha ou uma coluna).\n",
        "\n",
        "Vamos começar nossa introdução explorando como criar matrizes numPy.\n",
        "\n",
        "\n",
        "## Criando NumPy Arrays\n",
        "\n",
        "### De uma lista de Python\n",
        "\n",
        "Podemos criar uma matriz convertendo diretamente uma lista ou lista de listas:"
      ]
    },
    {
      "cell_type": "code",
      "metadata": {
        "id": "W0Dp9cyBuVCD"
      },
      "source": [
        "minha_lista = [1,2,3]\n",
        "minha_lista"
      ],
      "execution_count": null,
      "outputs": []
    },
    {
      "cell_type": "code",
      "metadata": {
        "id": "6giEth4GuVCP"
      },
      "source": [
        "np.array(minha_lista)"
      ],
      "execution_count": null,
      "outputs": []
    },
    {
      "cell_type": "code",
      "metadata": {
        "id": "JmN1HlnwuVCa"
      },
      "source": [
        "minha_matriz = [[1,2,3],[4,5,6],[7,8,9]]\n",
        "minha_matriz"
      ],
      "execution_count": null,
      "outputs": []
    },
    {
      "cell_type": "code",
      "metadata": {
        "id": "FH4OKij-uVCl"
      },
      "source": [
        "np.array(minha_matriz)"
      ],
      "execution_count": null,
      "outputs": []
    },
    {
      "cell_type": "markdown",
      "metadata": {
        "id": "r8Fro6oPuVCv"
      },
      "source": [
        "## Métodos incorporados (Built-in Methods)\n",
        "\n",
        "Há muitas maneiras embutidas de gerar Arrays"
      ]
    },
    {
      "cell_type": "markdown",
      "metadata": {
        "id": "XH7pmy9luVCy"
      },
      "source": [
        "### arange\n",
        "\n",
        "Retorna valores uniformemente espaçados dentro de um determinado intervalo."
      ]
    },
    {
      "cell_type": "code",
      "metadata": {
        "id": "dUugHvbLuVC2"
      },
      "source": [
        "np.arange(0,10)"
      ],
      "execution_count": null,
      "outputs": []
    },
    {
      "cell_type": "code",
      "metadata": {
        "id": "5jI8JVlUuVDA"
      },
      "source": [
        "np.arange(0,11,2)"
      ],
      "execution_count": null,
      "outputs": []
    },
    {
      "cell_type": "markdown",
      "metadata": {
        "id": "tNGbw5gwuVDJ"
      },
      "source": [
        "### zeros e ones\n",
        "\n",
        "Gerar matrizes de zeros ou de ums"
      ]
    },
    {
      "cell_type": "code",
      "metadata": {
        "id": "yWbpkjkGuVDM"
      },
      "source": [
        "np.zeros(3)"
      ],
      "execution_count": null,
      "outputs": []
    },
    {
      "cell_type": "code",
      "metadata": {
        "id": "KQkzyV6MuVDU"
      },
      "source": [
        "np.zeros((5,5))"
      ],
      "execution_count": null,
      "outputs": []
    },
    {
      "cell_type": "code",
      "metadata": {
        "id": "V2YnBCNBuVDe"
      },
      "source": [
        "np.ones(3)"
      ],
      "execution_count": null,
      "outputs": []
    },
    {
      "cell_type": "code",
      "metadata": {
        "id": "9SMj0CobuVDn"
      },
      "source": [
        "np.ones((3,3))"
      ],
      "execution_count": null,
      "outputs": []
    },
    {
      "cell_type": "markdown",
      "metadata": {
        "id": "bGw-AfILuVDw"
      },
      "source": [
        "### linspace\n",
        "Retorna números uniformemente espaçados ao longo de um intervalo especificado."
      ]
    },
    {
      "cell_type": "code",
      "metadata": {
        "id": "uc6ZaoPquVDy"
      },
      "source": [
        "np.linspace(0,10,3)"
      ],
      "execution_count": null,
      "outputs": []
    },
    {
      "cell_type": "code",
      "metadata": {
        "id": "eFFg9-uSuVD7"
      },
      "source": [
        "np.linspace(0,10,50)"
      ],
      "execution_count": null,
      "outputs": []
    },
    {
      "cell_type": "markdown",
      "metadata": {
        "id": "i006Q9IouVEC"
      },
      "source": [
        "## eye\n",
        "\n",
        "Cria uma matriz identidade"
      ]
    },
    {
      "cell_type": "code",
      "metadata": {
        "id": "-2D86kGGuVED"
      },
      "source": [
        "np.eye(4)"
      ],
      "execution_count": null,
      "outputs": []
    },
    {
      "cell_type": "markdown",
      "metadata": {
        "id": "92hlQoy8uVEL"
      },
      "source": [
        "## Random \n",
        "\n",
        "Numpy também tem muitas maneiras de criar arrays de números aleatórios:\n",
        "\n",
        "### rand\n",
        "Cria uma matriz da forma dada e preencha com amostras aleatórias de uma distribuição uniforme sobre ``[0, 1)``."
      ]
    },
    {
      "cell_type": "code",
      "metadata": {
        "id": "IGmkLquPuVEM"
      },
      "source": [
        "np.random.rand(2)"
      ],
      "execution_count": null,
      "outputs": []
    },
    {
      "cell_type": "code",
      "metadata": {
        "id": "8FTo0nbQuVES"
      },
      "source": [
        "np.random.rand(5,5)"
      ],
      "execution_count": null,
      "outputs": []
    },
    {
      "cell_type": "markdown",
      "metadata": {
        "id": "m02bv27tuVEY"
      },
      "source": [
        "### randn\n",
        "\n",
        "Retorna uma amostra (ou amostras) da distribuição \"normal\". Ao contrário de rand, que é uniforme:"
      ]
    },
    {
      "cell_type": "code",
      "metadata": {
        "id": "cmiN5rd9uVEb"
      },
      "source": [
        "np.random.randn(2)"
      ],
      "execution_count": null,
      "outputs": []
    },
    {
      "cell_type": "code",
      "metadata": {
        "id": "bHC8RiVYuVEh"
      },
      "source": [
        "np.random.randn(5,5)"
      ],
      "execution_count": null,
      "outputs": []
    },
    {
      "cell_type": "markdown",
      "metadata": {
        "id": "GRkCymIiuVEp"
      },
      "source": [
        "### randint\n",
        "Retorna inteiros aleatórios de \"low\" (inclusive) para \"high\" (exclusivo)."
      ]
    },
    {
      "cell_type": "code",
      "metadata": {
        "id": "E18xpXYDuVEr"
      },
      "source": [
        "np.random.randint(1,100)"
      ],
      "execution_count": null,
      "outputs": []
    },
    {
      "cell_type": "code",
      "metadata": {
        "id": "aP3z3ohSuVEx"
      },
      "source": [
        "np.random.randint(1,100,10)"
      ],
      "execution_count": null,
      "outputs": []
    },
    {
      "cell_type": "markdown",
      "metadata": {
        "id": "ly1fWDtxuVE3"
      },
      "source": [
        "## Atributos de Array e Métodos\n",
        "\n",
        "Vamos discutir alguns atributos e métodos úteis ou uma matriz:"
      ]
    },
    {
      "cell_type": "code",
      "metadata": {
        "id": "DLJ73BQBuVE4"
      },
      "source": [
        "arr = np.arange(25)\n",
        "ranarr = np.random.randint(0,50,10)"
      ],
      "execution_count": null,
      "outputs": []
    },
    {
      "cell_type": "code",
      "metadata": {
        "id": "MEGu7DK1uVE-"
      },
      "source": [
        "arr"
      ],
      "execution_count": null,
      "outputs": []
    },
    {
      "cell_type": "code",
      "metadata": {
        "id": "Zcxoy42xuVFD"
      },
      "source": [
        "ranarr"
      ],
      "execution_count": null,
      "outputs": []
    },
    {
      "cell_type": "markdown",
      "metadata": {
        "id": "XW-WgZGnuVFJ"
      },
      "source": [
        "## Reshape\n",
        "Retorna uma matriz contendo os mesmos dados com uma nova forma."
      ]
    },
    {
      "cell_type": "code",
      "metadata": {
        "id": "IQEfA3oKuVFL"
      },
      "source": [
        "arr.reshape(5,5,1)"
      ],
      "execution_count": null,
      "outputs": []
    },
    {
      "cell_type": "markdown",
      "metadata": {
        "id": "YLRiICn_uVFS"
      },
      "source": [
        "### max,min,argmax,argmin\n",
        "\n",
        "Estes são métodos úteis para encontrar valores máximos ou mínimos, ou para encontrar seus locais de índice usando argmin ou argmax"
      ]
    },
    {
      "cell_type": "code",
      "metadata": {
        "id": "HWErwQ1auVFU"
      },
      "source": [
        "ranarr"
      ],
      "execution_count": null,
      "outputs": []
    },
    {
      "cell_type": "code",
      "metadata": {
        "id": "S5Pd6q9luVFZ"
      },
      "source": [
        "ranarr.max()"
      ],
      "execution_count": null,
      "outputs": []
    },
    {
      "cell_type": "code",
      "metadata": {
        "id": "zyuU-IV0uVFe"
      },
      "source": [
        "ranarr.argmax()"
      ],
      "execution_count": null,
      "outputs": []
    },
    {
      "cell_type": "code",
      "metadata": {
        "id": "1Z38N2hxuVFj"
      },
      "source": [
        "ranarr.min()"
      ],
      "execution_count": null,
      "outputs": []
    },
    {
      "cell_type": "code",
      "metadata": {
        "id": "zzE1XGsGuVFo"
      },
      "source": [
        "ranarr.argmin()"
      ],
      "execution_count": null,
      "outputs": []
    },
    {
      "cell_type": "markdown",
      "metadata": {
        "id": "z6hwv99cuVF6"
      },
      "source": [
        "## Shape\n",
        "\n",
        "Shape é um atributo que os arrays têm (não um método):"
      ]
    },
    {
      "cell_type": "code",
      "metadata": {
        "id": "54kfC-sJuVF8"
      },
      "source": [
        "# Vector\n",
        "arr.shape"
      ],
      "execution_count": null,
      "outputs": []
    },
    {
      "cell_type": "code",
      "metadata": {
        "id": "7kGa_8p1uVGA"
      },
      "source": [
        "arr.reshape(1,25)"
      ],
      "execution_count": null,
      "outputs": []
    },
    {
      "cell_type": "code",
      "metadata": {
        "id": "vDps1UMSuVGE"
      },
      "source": [
        "arr.reshape(1,25).shape"
      ],
      "execution_count": null,
      "outputs": []
    },
    {
      "cell_type": "code",
      "metadata": {
        "id": "Onvute86uVGJ"
      },
      "source": [
        "arr.reshape(25,1)"
      ],
      "execution_count": null,
      "outputs": []
    },
    {
      "cell_type": "code",
      "metadata": {
        "id": "qBZEuiDcuVGN"
      },
      "source": [
        "arr.reshape(25,1).shape"
      ],
      "execution_count": null,
      "outputs": []
    },
    {
      "cell_type": "markdown",
      "metadata": {
        "id": "aYfvSYhnuVGQ"
      },
      "source": [
        "### dtype\n",
        "Você também pode pegar o tipo de dados do objeto na matriz:"
      ]
    },
    {
      "cell_type": "code",
      "metadata": {
        "id": "szKiOA_LuVGR",
        "outputId": "9164b712-1344-4b2b-8729-4367e395b2ca",
        "colab": {
          "base_uri": "https://localhost:8080/",
          "height": 34
        }
      },
      "source": [
        "arr.dtype"
      ],
      "execution_count": null,
      "outputs": [
        {
          "output_type": "execute_result",
          "data": {
            "text/plain": [
              "dtype('int64')"
            ]
          },
          "metadata": {
            "tags": []
          },
          "execution_count": 29
        }
      ]
    }
  ]
}