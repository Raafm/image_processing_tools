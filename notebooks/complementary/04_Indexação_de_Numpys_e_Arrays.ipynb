{
  "nbformat": 4,
  "nbformat_minor": 0,
  "metadata": {
    "kernelspec": {
      "display_name": "Python 3",
      "language": "python",
      "name": "python3"
    },
    "language_info": {
      "codemirror_mode": {
        "name": "ipython",
        "version": 3
      },
      "file_extension": ".py",
      "mimetype": "text/x-python",
      "name": "python",
      "nbconvert_exporter": "python",
      "pygments_lexer": "ipython3",
      "version": "3.7.4"
    },
    "colab": {
      "provenance": []
    }
  },
  "cells": [
    {
      "cell_type": "markdown",
      "metadata": {
        "id": "A0z8V6dfvWyG"
      },
      "source": [
        "# Indexação de Numpys e Arrays\n",
        "\n",
        "Nesta palestra, vamos discutir como selecionar elementos ou grupos de elementos de uma matriz."
      ]
    },
    {
      "cell_type": "code",
      "metadata": {
        "id": "mtOOWikIvWyO"
      },
      "source": [
        "import numpy as np"
      ],
      "execution_count": null,
      "outputs": []
    },
    {
      "cell_type": "code",
      "metadata": {
        "id": "KHF197F_vWyg"
      },
      "source": [
        "# Criando um simples array\n",
        "arr = np.arange(0,11)"
      ],
      "execution_count": null,
      "outputs": []
    },
    {
      "cell_type": "code",
      "metadata": {
        "id": "86XgmH82vWyq",
        "outputId": "04ad400b-0e33-4928-c8ab-63b7ecc9ca7f"
      },
      "source": [
        "# Mostrar\n",
        "arr"
      ],
      "execution_count": null,
      "outputs": [
        {
          "output_type": "execute_result",
          "data": {
            "text/plain": [
              "array([ 0,  1,  2,  3,  4,  5,  6,  7,  8,  9, 10])"
            ]
          },
          "metadata": {
            "tags": []
          },
          "execution_count": 3
        }
      ]
    },
    {
      "cell_type": "markdown",
      "metadata": {
        "id": "HnaVNPZPvWy3"
      },
      "source": [
        "## Indexação e seleção\n",
        "A maneira mais simples de escolher um ou alguns elementos de uma matriz é muito semelhante às listas de python:"
      ]
    },
    {
      "cell_type": "code",
      "metadata": {
        "id": "LlBWTdXhvWy7",
        "outputId": "fb55783e-ef26-4096-fe07-6129829a6ab7"
      },
      "source": [
        "# Obtendo um valor através de um índice\n",
        "arr[8]"
      ],
      "execution_count": null,
      "outputs": [
        {
          "output_type": "execute_result",
          "data": {
            "text/plain": [
              "8"
            ]
          },
          "metadata": {
            "tags": []
          },
          "execution_count": 4
        }
      ]
    },
    {
      "cell_type": "code",
      "metadata": {
        "id": "FuiWc3sfvWzI",
        "outputId": "dd2a53f0-7bf7-4f58-86d7-dce097848555"
      },
      "source": [
        "# Obtendo valores em um intervalo\n",
        "arr[1:5]"
      ],
      "execution_count": null,
      "outputs": [
        {
          "output_type": "execute_result",
          "data": {
            "text/plain": [
              "array([1, 2, 3, 4])"
            ]
          },
          "metadata": {
            "tags": []
          },
          "execution_count": 5
        }
      ]
    },
    {
      "cell_type": "code",
      "metadata": {
        "id": "vN63eXSxvWzS",
        "outputId": "01ad2084-b562-4f3f-dcd4-429a32fef07a"
      },
      "source": [
        "arr[0:5]"
      ],
      "execution_count": null,
      "outputs": [
        {
          "output_type": "execute_result",
          "data": {
            "text/plain": [
              "array([0, 1, 2, 3, 4])"
            ]
          },
          "metadata": {
            "tags": []
          },
          "execution_count": 6
        }
      ]
    },
    {
      "cell_type": "markdown",
      "metadata": {
        "id": "-JsvCrwuvWzZ"
      },
      "source": [
        "## Transmissão\n",
        "\n",
        "Numpy arrays diferem de uma lista Python normal por causa de sua capacidade de transmissão:"
      ]
    },
    {
      "cell_type": "code",
      "metadata": {
        "id": "pCcqu7U1vWzb",
        "outputId": "8cb6cc68-3a9c-480f-cb05-ae5c696a411f"
      },
      "source": [
        "# Configurando um valor com intervalo de índice (Transmissão)\n",
        "arr[0:5]=100\n",
        "\n",
        "#Show\n",
        "arr"
      ],
      "execution_count": null,
      "outputs": [
        {
          "output_type": "execute_result",
          "data": {
            "text/plain": [
              "array([100, 100, 100, 100, 100,   5,   6,   7,   8,   9,  10])"
            ]
          },
          "metadata": {
            "tags": []
          },
          "execution_count": 7
        }
      ]
    },
    {
      "cell_type": "code",
      "metadata": {
        "id": "bhOu327FvWzk",
        "outputId": "69f61d2d-f26d-4af2-e8be-4a860a64168d"
      },
      "source": [
        "# Redefinir matriz, veremos por que eu tive que redefinir em um momento\n",
        "arr = np.arange(0,11)\n",
        "\n",
        "# Mostrando\n",
        "arr"
      ],
      "execution_count": null,
      "outputs": [
        {
          "output_type": "execute_result",
          "data": {
            "text/plain": [
              "array([ 0,  1,  2,  3,  4,  5,  6,  7,  8,  9, 10])"
            ]
          },
          "metadata": {
            "tags": []
          },
          "execution_count": 8
        }
      ]
    },
    {
      "cell_type": "code",
      "metadata": {
        "id": "n-DdzeoXvWzs",
        "outputId": "1b3e8b4d-de01-45d9-8d67-54c722d970ef"
      },
      "source": [
        "# Notas importantes sobre fatias\n",
        "slice_de_arr = arr[0:6]\n",
        "\n",
        "# Mostra a fatia\n",
        "slice_de_arr"
      ],
      "execution_count": null,
      "outputs": [
        {
          "output_type": "execute_result",
          "data": {
            "text/plain": [
              "array([0, 1, 2, 3, 4, 5])"
            ]
          },
          "metadata": {
            "tags": []
          },
          "execution_count": 10
        }
      ]
    },
    {
      "cell_type": "code",
      "metadata": {
        "id": "lBUtXTiHvWz1",
        "outputId": "78635192-a243-439f-81b2-08e8a145c91e"
      },
      "source": [
        "# Modifica a fatia\n",
        "slice_de_arr[:]=99\n",
        "\n",
        "#Show Slice again\n",
        "slice_de_arr"
      ],
      "execution_count": null,
      "outputs": [
        {
          "output_type": "execute_result",
          "data": {
            "text/plain": [
              "array([99, 99, 99, 99, 99, 99])"
            ]
          },
          "metadata": {
            "tags": []
          },
          "execution_count": 11
        }
      ]
    },
    {
      "cell_type": "markdown",
      "metadata": {
        "id": "kUfpObdGvWz-"
      },
      "source": [
        "Agora note que as mudanças também ocorrem em nossa matriz original!"
      ]
    },
    {
      "cell_type": "code",
      "metadata": {
        "id": "3wTV4s_IvW0B",
        "outputId": "b664ee97-7b2d-428a-d644-d7e430997859"
      },
      "source": [
        "arr"
      ],
      "execution_count": null,
      "outputs": [
        {
          "output_type": "execute_result",
          "data": {
            "text/plain": [
              "array([99, 99, 99, 99, 99, 99,  6,  7,  8,  9, 10])"
            ]
          },
          "metadata": {
            "tags": []
          },
          "execution_count": 12
        }
      ]
    },
    {
      "cell_type": "markdown",
      "metadata": {
        "id": "ddtFyaZ4vW0K"
      },
      "source": [
        "Os dados não são copiados, é uma visão da matriz original! Isso evita problemas de memória!"
      ]
    },
    {
      "cell_type": "code",
      "metadata": {
        "id": "t49bKL9KvW0O",
        "outputId": "a3a91145-6173-43d7-a723-3b7806ccc212"
      },
      "source": [
        "# Para obter uma cópia, precisa ser explícito\n",
        "arr_copy = arr.copy()\n",
        "\n",
        "arr_copy"
      ],
      "execution_count": null,
      "outputs": [
        {
          "output_type": "execute_result",
          "data": {
            "text/plain": [
              "array([99, 99, 99, 99, 99, 99,  6,  7,  8,  9, 10])"
            ]
          },
          "metadata": {
            "tags": []
          },
          "execution_count": 13
        }
      ]
    },
    {
      "cell_type": "markdown",
      "metadata": {
        "id": "y6vMBMM0vW0U"
      },
      "source": [
        "## Indexando uma matriz 2D\n",
        "\n",
        "O formato geral é ** arr_2d [row] [col] ** ou ** arr_2d [row, col] **. Eu recomendo geralmente usando a notação de vírgula para maior clareza."
      ]
    },
    {
      "cell_type": "code",
      "metadata": {
        "id": "NmOEjRRMvW0W",
        "outputId": "d5b5a8b7-bcdf-4c32-993c-81075568292f"
      },
      "source": [
        "arr_2d = np.array(([5,10,15],[20,25,30],[35,40,45]))\n",
        "\n",
        "# Mostrando\n",
        "arr_2d"
      ],
      "execution_count": null,
      "outputs": [
        {
          "output_type": "execute_result",
          "data": {
            "text/plain": [
              "array([[ 5, 10, 15],\n",
              "       [20, 25, 30],\n",
              "       [35, 40, 45]])"
            ]
          },
          "metadata": {
            "tags": []
          },
          "execution_count": 14
        }
      ]
    },
    {
      "cell_type": "code",
      "metadata": {
        "id": "AeBeLhJivW0f",
        "outputId": "17d2834d-a0f3-4b26-8776-b0e13c341655"
      },
      "source": [
        "# Fila de indexação\n",
        "arr_2d[1]\n"
      ],
      "execution_count": null,
      "outputs": [
        {
          "output_type": "execute_result",
          "data": {
            "text/plain": [
              "array([20, 25, 30])"
            ]
          },
          "metadata": {
            "tags": []
          },
          "execution_count": 15
        }
      ]
    },
    {
      "cell_type": "code",
      "metadata": {
        "id": "KN5d4u2ZvW0m",
        "outputId": "68f464d3-01c6-424e-da18-8417c5016405"
      },
      "source": [
        "# O formato é arr_2d [row] [col] ou arr_2d [row, col]\n",
        "\n",
        "# Obtendo o valor do elemento individual\n",
        "arr_2d[1][0]"
      ],
      "execution_count": null,
      "outputs": [
        {
          "output_type": "execute_result",
          "data": {
            "text/plain": [
              "20"
            ]
          },
          "metadata": {
            "tags": []
          },
          "execution_count": 16
        }
      ]
    },
    {
      "cell_type": "code",
      "metadata": {
        "id": "gi7GF_3hvW0t",
        "outputId": "e6e43d73-cf3e-406a-f4d9-421678c3fd94"
      },
      "source": [
        "# Obtendo o valor do elemento individual\n",
        "arr_2d[1,0]"
      ],
      "execution_count": null,
      "outputs": [
        {
          "output_type": "execute_result",
          "data": {
            "text/plain": [
              "20"
            ]
          },
          "metadata": {
            "tags": []
          },
          "execution_count": 17
        }
      ]
    },
    {
      "cell_type": "code",
      "metadata": {
        "id": "ENw3HMT6vW0z",
        "outputId": "c8b5f7e7-d6c5-46f3-b684-17a3cc10d700"
      },
      "source": [
        "# Fatiando um array 2D\n",
        "\n",
        "# Fatia (2,2) do canto superior direito\n",
        "arr_2d[:2,1:]"
      ],
      "execution_count": null,
      "outputs": [
        {
          "output_type": "execute_result",
          "data": {
            "text/plain": [
              "array([[10, 15],\n",
              "       [25, 30]])"
            ]
          },
          "metadata": {
            "tags": []
          },
          "execution_count": 18
        }
      ]
    },
    {
      "cell_type": "code",
      "metadata": {
        "id": "vmekJbDwvW08",
        "outputId": "15bf1fdd-fc95-44e1-851a-68008883a123"
      },
      "source": [
        "# Fatia inferior\n",
        "arr_2d[2]"
      ],
      "execution_count": null,
      "outputs": [
        {
          "output_type": "execute_result",
          "data": {
            "text/plain": [
              "array([35, 40, 45])"
            ]
          },
          "metadata": {
            "tags": []
          },
          "execution_count": 19
        }
      ]
    },
    {
      "cell_type": "code",
      "metadata": {
        "id": "Eqv4mktBvW1D",
        "outputId": "783f4a5b-5061-4142-8932-39480a0fe1c6"
      },
      "source": [
        "# Fatia inferior\n",
        "arr_2d[2,:]"
      ],
      "execution_count": null,
      "outputs": [
        {
          "output_type": "execute_result",
          "data": {
            "text/plain": [
              "array([35, 40, 45])"
            ]
          },
          "metadata": {
            "tags": []
          },
          "execution_count": 20
        }
      ]
    },
    {
      "cell_type": "markdown",
      "metadata": {
        "id": "WWyWqZyzvW1K"
      },
      "source": [
        "### Indexação \"Fancy\"\n",
        "\n",
        "A indxação \"Fancy\" permite que você selecione linhas inteiras ou colunas fora de ordem, para mostrar isso, vamos construir rapidamente uma matriz numpy:"
      ]
    },
    {
      "cell_type": "code",
      "metadata": {
        "id": "ep17n0mBvW1M"
      },
      "source": [
        "arr2d = np.zeros((10,10))"
      ],
      "execution_count": null,
      "outputs": []
    },
    {
      "cell_type": "code",
      "metadata": {
        "id": "8pK1JdvYvW1R"
      },
      "source": [
        "# Tamaho do array\n",
        "arr_length = arr2d.shape[1]"
      ],
      "execution_count": null,
      "outputs": []
    },
    {
      "cell_type": "code",
      "metadata": {
        "id": "AozyapM4vW1Y",
        "outputId": "48f78807-586c-42ea-af92-619fa1279609"
      },
      "source": [
        "for i in range(arr_length):\n",
        "    arr2d[i] = i\n",
        "    \n",
        "arr2d"
      ],
      "execution_count": null,
      "outputs": [
        {
          "output_type": "execute_result",
          "data": {
            "text/plain": [
              "array([[ 0.,  0.,  0.,  0.,  0.,  0.,  0.,  0.,  0.,  0.],\n",
              "       [ 1.,  1.,  1.,  1.,  1.,  1.,  1.,  1.,  1.,  1.],\n",
              "       [ 2.,  2.,  2.,  2.,  2.,  2.,  2.,  2.,  2.,  2.],\n",
              "       [ 3.,  3.,  3.,  3.,  3.,  3.,  3.,  3.,  3.,  3.],\n",
              "       [ 4.,  4.,  4.,  4.,  4.,  4.,  4.,  4.,  4.,  4.],\n",
              "       [ 5.,  5.,  5.,  5.,  5.,  5.,  5.,  5.,  5.,  5.],\n",
              "       [ 6.,  6.,  6.,  6.,  6.,  6.,  6.,  6.,  6.,  6.],\n",
              "       [ 7.,  7.,  7.,  7.,  7.,  7.,  7.,  7.,  7.,  7.],\n",
              "       [ 8.,  8.,  8.,  8.,  8.,  8.,  8.,  8.,  8.,  8.],\n",
              "       [ 9.,  9.,  9.,  9.,  9.,  9.,  9.,  9.,  9.,  9.]])"
            ]
          },
          "metadata": {
            "tags": []
          },
          "execution_count": 23
        }
      ]
    },
    {
      "cell_type": "markdown",
      "metadata": {
        "id": "-Dq73xCOvW1f"
      },
      "source": [
        "Indexação \"Fancy\" permite o seguinte:"
      ]
    },
    {
      "cell_type": "code",
      "metadata": {
        "id": "53k36P_SvW1h",
        "outputId": "3b44aa19-8932-47c0-9da4-8d58a760badd"
      },
      "source": [
        "arr2d[[2,4,6,8]]"
      ],
      "execution_count": null,
      "outputs": [
        {
          "output_type": "execute_result",
          "data": {
            "text/plain": [
              "array([[ 2.,  2.,  2.,  2.,  2.,  2.,  2.,  2.,  2.,  2.],\n",
              "       [ 4.,  4.,  4.,  4.,  4.,  4.,  4.,  4.,  4.,  4.],\n",
              "       [ 6.,  6.,  6.,  6.,  6.,  6.,  6.,  6.,  6.,  6.],\n",
              "       [ 8.,  8.,  8.,  8.,  8.,  8.,  8.,  8.,  8.,  8.]])"
            ]
          },
          "metadata": {
            "tags": []
          },
          "execution_count": 24
        }
      ]
    },
    {
      "cell_type": "code",
      "metadata": {
        "id": "ht5gZo57vW1l",
        "outputId": "07058bdd-28f9-4d07-deaa-210537542877"
      },
      "source": [
        "# Permite em qualquer ordem\n",
        "arr2d[[6,4,2,7]]"
      ],
      "execution_count": null,
      "outputs": [
        {
          "output_type": "execute_result",
          "data": {
            "text/plain": [
              "array([[ 6.,  6.,  6.,  6.,  6.,  6.,  6.,  6.,  6.,  6.],\n",
              "       [ 4.,  4.,  4.,  4.,  4.,  4.,  4.,  4.,  4.,  4.],\n",
              "       [ 2.,  2.,  2.,  2.,  2.,  2.,  2.,  2.,  2.,  2.],\n",
              "       [ 7.,  7.,  7.,  7.,  7.,  7.,  7.,  7.,  7.,  7.]])"
            ]
          },
          "metadata": {
            "tags": []
          },
          "execution_count": 25
        }
      ]
    },
    {
      "cell_type": "markdown",
      "metadata": {
        "id": "BBY5laaVvW1q"
      },
      "source": [
        "## Mais Ajuda de Indexação\n",
        "A indexação de uma matriz 2d pode ser um pouco confusa no início, especialmente quando você começa a adicionar em tamanho de etapa. Experimente pesquisar no Google \"indexação NumPy\" para imagens úteis, como esta:\n",
        "\n",
        "<img src= 'http://memory.osu.edu/classes/python/_images/numpy_indexing.png' width=500/>"
      ]
    },
    {
      "cell_type": "markdown",
      "metadata": {
        "id": "G1-SaUd8vW1s"
      },
      "source": [
        "## Seleção\n",
        "\n",
        "Vamos examinar brevemente como usar colchetes para seleção com base em operadores de comparação."
      ]
    },
    {
      "cell_type": "code",
      "metadata": {
        "id": "IYlcsUMevW1s",
        "outputId": "a1804f52-d72f-4e5b-b056-f47d565a804c"
      },
      "source": [
        "arr = np.arange(1,11)\n",
        "arr"
      ],
      "execution_count": null,
      "outputs": [
        {
          "output_type": "execute_result",
          "data": {
            "text/plain": [
              "array([ 1,  2,  3,  4,  5,  6,  7,  8,  9, 10])"
            ]
          },
          "metadata": {
            "tags": []
          },
          "execution_count": 26
        }
      ]
    },
    {
      "cell_type": "code",
      "metadata": {
        "id": "grrcgpM9vW10",
        "outputId": "53ebf331-bde3-438d-957c-4058c8c9f405"
      },
      "source": [
        "arr > 4"
      ],
      "execution_count": null,
      "outputs": [
        {
          "output_type": "execute_result",
          "data": {
            "text/plain": [
              "array([False, False, False, False,  True,  True,  True,  True,  True,  True], dtype=bool)"
            ]
          },
          "metadata": {
            "tags": []
          },
          "execution_count": 27
        }
      ]
    },
    {
      "cell_type": "code",
      "metadata": {
        "id": "K6a1Yi1svW16"
      },
      "source": [
        "bool_arr = arr>4"
      ],
      "execution_count": null,
      "outputs": []
    },
    {
      "cell_type": "code",
      "metadata": {
        "id": "oc8-QnoPvW1_",
        "outputId": "20d17959-0dc5-4494-d829-bab5acebf175"
      },
      "source": [
        "bool_arr"
      ],
      "execution_count": null,
      "outputs": [
        {
          "output_type": "execute_result",
          "data": {
            "text/plain": [
              "array([False, False, False, False,  True,  True,  True,  True,  True,  True], dtype=bool)"
            ]
          },
          "metadata": {
            "tags": []
          },
          "execution_count": 29
        }
      ]
    },
    {
      "cell_type": "code",
      "metadata": {
        "id": "pNN5pzqlvW2E",
        "outputId": "cd5ac4cc-6d7f-469e-8d0c-a53c82cd4727"
      },
      "source": [
        "arr[bool_arr]"
      ],
      "execution_count": null,
      "outputs": [
        {
          "output_type": "execute_result",
          "data": {
            "text/plain": [
              "array([ 5,  6,  7,  8,  9, 10])"
            ]
          },
          "metadata": {
            "tags": []
          },
          "execution_count": 30
        }
      ]
    },
    {
      "cell_type": "code",
      "metadata": {
        "id": "NzJuB6WBvW2J",
        "outputId": "8c73c5ac-08c4-4654-dce5-37020c7f378f"
      },
      "source": [
        "arr[arr>2]"
      ],
      "execution_count": null,
      "outputs": [
        {
          "output_type": "execute_result",
          "data": {
            "text/plain": [
              "array([ 3,  4,  5,  6,  7,  8,  9, 10])"
            ]
          },
          "metadata": {
            "tags": []
          },
          "execution_count": 31
        }
      ]
    },
    {
      "cell_type": "code",
      "metadata": {
        "id": "Cs_3JTBXvW2N",
        "outputId": "59de3e27-daa5-43f2-9684-09eccb594df0"
      },
      "source": [
        "x = 2\n",
        "arr[arr>x]"
      ],
      "execution_count": null,
      "outputs": [
        {
          "output_type": "execute_result",
          "data": {
            "text/plain": [
              "array([ 3,  4,  5,  6,  7,  8,  9, 10])"
            ]
          },
          "metadata": {
            "tags": []
          },
          "execution_count": 32
        }
      ]
    }
  ]
}