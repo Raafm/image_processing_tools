{
  "nbformat": 4,
  "nbformat_minor": 0,
  "metadata": {
    "kernelspec": {
      "display_name": "Python 3",
      "language": "python",
      "name": "python3"
    },
    "language_info": {
      "codemirror_mode": {
        "name": "ipython",
        "version": 3
      },
      "file_extension": ".py",
      "mimetype": "text/x-python",
      "name": "python",
      "nbconvert_exporter": "python",
      "pygments_lexer": "ipython3",
      "version": "3.7.4"
    },
    "colab": {
      "provenance": []
    }
  },
  "cells": [
    {
      "cell_type": "markdown",
      "metadata": {
        "id": "7mBBt593ojMt"
      },
      "source": [
        "# Curso rápido de Python\n",
        "\n",
        "Este notebook vai apenas passar pelos tópicos básicos em ordem:\n",
        "\n",
        "* Tipos de dados\n",
        "    * Numbers\n",
        "    * Strings\n",
        "    * Printando\n",
        "    * Listas\n",
        "    * Dicionários\n",
        "    * Boleanos\n",
        "    * Tuplas\n",
        "    * Sets\n",
        "* Operadores de comparação\n",
        "* if,elif, else\n",
        "* for Loops\n",
        "* while Loops\n",
        "* range()\n",
        "* list comprehension\n",
        "* funções\n",
        "* expressões lamda\n",
        "* map e filter\n",
        "* métodos\n",
        "____"
      ]
    },
    {
      "cell_type": "markdown",
      "metadata": {
        "id": "nrgp-lNZojM0"
      },
      "source": [
        "## Tipos de dados\n",
        "\n",
        "### Numéricos"
      ]
    },
    {
      "cell_type": "code",
      "metadata": {
        "id": "pGsSkArVojM5",
        "colab": {
          "base_uri": "https://localhost:8080/",
          "height": 34
        },
        "outputId": "c4cb33c3-c343-4a6d-9ab4-2b193a9eac94"
      },
      "source": [
        "1 + 1"
      ],
      "execution_count": null,
      "outputs": [
        {
          "output_type": "execute_result",
          "data": {
            "text/plain": [
              "2"
            ]
          },
          "metadata": {
            "tags": []
          },
          "execution_count": 1
        }
      ]
    },
    {
      "cell_type": "code",
      "metadata": {
        "id": "I51CeO24ojNL",
        "colab": {
          "base_uri": "https://localhost:8080/",
          "height": 34
        },
        "outputId": "adb50509-b278-4687-e233-ad9553bd8f07"
      },
      "source": [
        "1 * 3"
      ],
      "execution_count": null,
      "outputs": [
        {
          "output_type": "execute_result",
          "data": {
            "text/plain": [
              "3"
            ]
          },
          "metadata": {
            "tags": []
          },
          "execution_count": 2
        }
      ]
    },
    {
      "cell_type": "code",
      "metadata": {
        "id": "Xlv6xBHSojNW",
        "colab": {
          "base_uri": "https://localhost:8080/",
          "height": 34
        },
        "outputId": "21edb8cb-8ebc-47e1-bc62-43893db7921f"
      },
      "source": [
        "1 / 2"
      ],
      "execution_count": null,
      "outputs": [
        {
          "output_type": "execute_result",
          "data": {
            "text/plain": [
              "0.5"
            ]
          },
          "metadata": {
            "tags": []
          },
          "execution_count": 3
        }
      ]
    },
    {
      "cell_type": "code",
      "metadata": {
        "id": "Tyudo2AsojNg",
        "colab": {
          "base_uri": "https://localhost:8080/",
          "height": 34
        },
        "outputId": "9de48c07-c5f2-40b1-9e22-b3db16f439f9"
      },
      "source": [
        "2 ** 4"
      ],
      "execution_count": null,
      "outputs": [
        {
          "output_type": "execute_result",
          "data": {
            "text/plain": [
              "16"
            ]
          },
          "metadata": {
            "tags": []
          },
          "execution_count": 4
        }
      ]
    },
    {
      "cell_type": "code",
      "metadata": {
        "id": "pYF22WtjojNq",
        "colab": {
          "base_uri": "https://localhost:8080/",
          "height": 34
        },
        "outputId": "a92a1943-e6b9-4c9e-e9b1-6992f335b5d2"
      },
      "source": [
        "4 % 2"
      ],
      "execution_count": null,
      "outputs": [
        {
          "output_type": "execute_result",
          "data": {
            "text/plain": [
              "0"
            ]
          },
          "metadata": {
            "tags": []
          },
          "execution_count": 5
        }
      ]
    },
    {
      "cell_type": "code",
      "metadata": {
        "id": "B0xXIHK8ojN0",
        "colab": {
          "base_uri": "https://localhost:8080/",
          "height": 34
        },
        "outputId": "ba2ed37b-d338-4b9d-f74c-818756b520c7"
      },
      "source": [
        "5 % 2"
      ],
      "execution_count": null,
      "outputs": [
        {
          "output_type": "execute_result",
          "data": {
            "text/plain": [
              "1"
            ]
          },
          "metadata": {
            "tags": []
          },
          "execution_count": 6
        }
      ]
    },
    {
      "cell_type": "code",
      "metadata": {
        "id": "Rj1PqRKaojN6",
        "colab": {
          "base_uri": "https://localhost:8080/",
          "height": 34
        },
        "outputId": "cfe44341-3433-48e1-96d1-e9f1118d3a86"
      },
      "source": [
        "(2 + 3) * (5 + 5)"
      ],
      "execution_count": null,
      "outputs": [
        {
          "output_type": "execute_result",
          "data": {
            "text/plain": [
              "50"
            ]
          },
          "metadata": {
            "tags": []
          },
          "execution_count": 7
        }
      ]
    },
    {
      "cell_type": "markdown",
      "metadata": {
        "id": "PQob3NpMojOD"
      },
      "source": [
        "### Definição de variáveis"
      ]
    },
    {
      "cell_type": "code",
      "metadata": {
        "id": "EEmkWxxnojOH"
      },
      "source": [
        "# Não se pode iniciar uma variável com números ou carateres especais\n",
        "nome_da_variavel = 2"
      ],
      "execution_count": null,
      "outputs": []
    },
    {
      "cell_type": "code",
      "metadata": {
        "id": "Db4PATv7ojOP"
      },
      "source": [
        "x = 2\n",
        "y = 3"
      ],
      "execution_count": null,
      "outputs": []
    },
    {
      "cell_type": "code",
      "metadata": {
        "id": "iRbrMLWPojOX"
      },
      "source": [
        "z = x + y"
      ],
      "execution_count": null,
      "outputs": []
    },
    {
      "cell_type": "code",
      "metadata": {
        "id": "l8X2N2N_ojOg",
        "colab": {
          "base_uri": "https://localhost:8080/",
          "height": 34
        },
        "outputId": "d3a68311-d7eb-441a-cc05-6978c3fc203b"
      },
      "source": [
        "z"
      ],
      "execution_count": null,
      "outputs": [
        {
          "output_type": "execute_result",
          "data": {
            "text/plain": [
              "5"
            ]
          },
          "metadata": {
            "tags": []
          },
          "execution_count": 11
        }
      ]
    },
    {
      "cell_type": "markdown",
      "metadata": {
        "id": "C5EToslhojOo"
      },
      "source": [
        "### Strings"
      ]
    },
    {
      "cell_type": "code",
      "metadata": {
        "id": "nwBKr1p9ojOs",
        "colab": {
          "base_uri": "https://localhost:8080/",
          "height": 34
        },
        "outputId": "024871b2-dc20-49a6-f4f6-75401cb6d86a"
      },
      "source": [
        "'Citação simples'"
      ],
      "execution_count": null,
      "outputs": [
        {
          "output_type": "execute_result",
          "data": {
            "text/plain": [
              "'Citação simples'"
            ]
          },
          "metadata": {
            "tags": []
          },
          "execution_count": 12
        }
      ]
    },
    {
      "cell_type": "code",
      "metadata": {
        "id": "c7b-vKqqojOy",
        "colab": {
          "base_uri": "https://localhost:8080/",
          "height": 34
        },
        "outputId": "32b0959a-ab3c-4d95-f7c4-0d9bb0861608"
      },
      "source": [
        "\"Citações duplas\""
      ],
      "execution_count": null,
      "outputs": [
        {
          "output_type": "execute_result",
          "data": {
            "text/plain": [
              "'Citações duplas'"
            ]
          },
          "metadata": {
            "tags": []
          },
          "execution_count": 13
        }
      ]
    },
    {
      "cell_type": "markdown",
      "metadata": {
        "id": "klEhNcGbojO6"
      },
      "source": [
        "### Printando"
      ]
    },
    {
      "cell_type": "code",
      "metadata": {
        "id": "4JtARlI-ojO8"
      },
      "source": [
        "x = 'ola'"
      ],
      "execution_count": null,
      "outputs": []
    },
    {
      "cell_type": "code",
      "metadata": {
        "id": "ZWmqLIoYojPC",
        "colab": {
          "base_uri": "https://localhost:8080/"
        },
        "outputId": "ad622c01-932e-4339-be1d-a845e6d2dd4b"
      },
      "source": [
        "x"
      ],
      "execution_count": null,
      "outputs": [
        {
          "output_type": "execute_result",
          "data": {
            "application/vnd.google.colaboratory.intrinsic+json": {
              "type": "string"
            },
            "text/plain": [
              "'ola'"
            ]
          },
          "metadata": {},
          "execution_count": 2
        }
      ]
    },
    {
      "cell_type": "code",
      "metadata": {
        "id": "2LPWQUJLojPK",
        "colab": {
          "base_uri": "https://localhost:8080/"
        },
        "outputId": "4535a67d-6cf6-4a9e-ac5d-b857855e9b77"
      },
      "source": [
        "print(x)"
      ],
      "execution_count": null,
      "outputs": [
        {
          "output_type": "stream",
          "name": "stdout",
          "text": [
            "ola\n"
          ]
        }
      ]
    },
    {
      "cell_type": "code",
      "metadata": {
        "id": "t7b42Ja0ojPQ"
      },
      "source": [
        "num = 12\n",
        "nome = 'Sam'"
      ],
      "execution_count": null,
      "outputs": []
    },
    {
      "cell_type": "code",
      "metadata": {
        "id": "Yy9-zGrvojPX",
        "colab": {
          "base_uri": "https://localhost:8080/"
        },
        "outputId": "e4cc6083-f327-4f99-8c15-9b4b0bc1ed4b"
      },
      "source": [
        "print('Meu número é: {one}, e meu nome é: {two}'.format(one=num,two=nome))"
      ],
      "execution_count": null,
      "outputs": [
        {
          "output_type": "stream",
          "name": "stdout",
          "text": [
            "Meu número é: 12, e meu nome é: Sam\n"
          ]
        }
      ]
    },
    {
      "cell_type": "markdown",
      "metadata": {
        "id": "xn7I_MkoojPd"
      },
      "source": [
        "### Listas"
      ]
    },
    {
      "cell_type": "code",
      "metadata": {
        "id": "DwJVlgs9ojPe",
        "colab": {
          "base_uri": "https://localhost:8080/"
        },
        "outputId": "db5371f5-fad5-423d-e5f8-71497cfa5c99"
      },
      "source": [
        "[1,2,3]"
      ],
      "execution_count": null,
      "outputs": [
        {
          "output_type": "execute_result",
          "data": {
            "text/plain": [
              "[1, 2, 3]"
            ]
          },
          "metadata": {},
          "execution_count": 6
        }
      ]
    },
    {
      "cell_type": "code",
      "metadata": {
        "id": "cbDbuUlYojPl",
        "colab": {
          "base_uri": "https://localhost:8080/"
        },
        "outputId": "c4b31c65-09bd-47df-c178-2941475996c5"
      },
      "source": [
        "['hi',1,[1,2]]"
      ],
      "execution_count": null,
      "outputs": [
        {
          "output_type": "execute_result",
          "data": {
            "text/plain": [
              "['hi', 1, [1, 2]]"
            ]
          },
          "metadata": {},
          "execution_count": 7
        }
      ]
    },
    {
      "cell_type": "code",
      "metadata": {
        "id": "qkjrFdTfojPq"
      },
      "source": [
        "minha_lista = ['a','b','c']"
      ],
      "execution_count": null,
      "outputs": []
    },
    {
      "cell_type": "code",
      "metadata": {
        "id": "AVHx5VpWojPy"
      },
      "source": [
        "minha_lista.append('d')"
      ],
      "execution_count": null,
      "outputs": []
    },
    {
      "cell_type": "code",
      "metadata": {
        "id": "29vSXWzCojP3",
        "colab": {
          "base_uri": "https://localhost:8080/"
        },
        "outputId": "fef22171-8b14-4f86-f1ca-effb6e1f7c1a"
      },
      "source": [
        "minha_lista"
      ],
      "execution_count": null,
      "outputs": [
        {
          "output_type": "execute_result",
          "data": {
            "text/plain": [
              "['a', 'b', 'c', 'd']"
            ]
          },
          "metadata": {},
          "execution_count": 10
        }
      ]
    },
    {
      "cell_type": "code",
      "metadata": {
        "id": "3t78T6xZojP8",
        "colab": {
          "base_uri": "https://localhost:8080/"
        },
        "outputId": "73dcc658-bb37-4f54-ae54-a620045870b1"
      },
      "source": [
        "minha_lista[0]"
      ],
      "execution_count": null,
      "outputs": [
        {
          "output_type": "execute_result",
          "data": {
            "application/vnd.google.colaboratory.intrinsic+json": {
              "type": "string"
            },
            "text/plain": [
              "'a'"
            ]
          },
          "metadata": {},
          "execution_count": 11
        }
      ]
    },
    {
      "cell_type": "code",
      "metadata": {
        "id": "U8CdJtc3ojQB",
        "colab": {
          "base_uri": "https://localhost:8080/"
        },
        "outputId": "039bb5e3-81b9-4e4e-ffae-b8ca4fa715d8"
      },
      "source": [
        "minha_lista[1]"
      ],
      "execution_count": null,
      "outputs": [
        {
          "output_type": "execute_result",
          "data": {
            "application/vnd.google.colaboratory.intrinsic+json": {
              "type": "string"
            },
            "text/plain": [
              "'b'"
            ]
          },
          "metadata": {},
          "execution_count": 12
        }
      ]
    },
    {
      "cell_type": "code",
      "metadata": {
        "id": "Kbj8sGd9ojQG",
        "colab": {
          "base_uri": "https://localhost:8080/"
        },
        "outputId": "9db3afa2-3e0a-4f7f-a05b-877fc385ef65"
      },
      "source": [
        "minha_lista[1:]"
      ],
      "execution_count": null,
      "outputs": [
        {
          "output_type": "execute_result",
          "data": {
            "text/plain": [
              "['b', 'c', 'd']"
            ]
          },
          "metadata": {},
          "execution_count": 13
        }
      ]
    },
    {
      "cell_type": "code",
      "metadata": {
        "id": "4uiqwPx8ojQL",
        "colab": {
          "base_uri": "https://localhost:8080/"
        },
        "outputId": "19202454-e0f1-434e-8867-1725b0a611cc"
      },
      "source": [
        "minha_lista[:1]"
      ],
      "execution_count": null,
      "outputs": [
        {
          "output_type": "execute_result",
          "data": {
            "text/plain": [
              "['a']"
            ]
          },
          "metadata": {},
          "execution_count": 14
        }
      ]
    },
    {
      "cell_type": "code",
      "metadata": {
        "id": "lVp27ZjpojQT"
      },
      "source": [
        "minha_lista[0] = 'NOVO'"
      ],
      "execution_count": null,
      "outputs": []
    },
    {
      "cell_type": "code",
      "metadata": {
        "id": "0Qj3xWa3ojQX",
        "colab": {
          "base_uri": "https://localhost:8080/"
        },
        "outputId": "6cf76d8d-9887-437b-8a11-16ae25e5941f"
      },
      "source": [
        "minha_lista"
      ],
      "execution_count": null,
      "outputs": [
        {
          "output_type": "execute_result",
          "data": {
            "text/plain": [
              "['NOVO', 'b', 'c', 'd']"
            ]
          },
          "metadata": {},
          "execution_count": 16
        }
      ]
    },
    {
      "cell_type": "code",
      "metadata": {
        "id": "MqzildgkojQo"
      },
      "source": [
        "nest = [1,2,3,[4,5,['target']]]"
      ],
      "execution_count": null,
      "outputs": []
    },
    {
      "cell_type": "code",
      "metadata": {
        "id": "7K4TVMa1ojQt",
        "colab": {
          "base_uri": "https://localhost:8080/"
        },
        "outputId": "9c35c7ab-45b1-4579-c6d3-6fc620c87c7d"
      },
      "source": [
        "nest[3]"
      ],
      "execution_count": null,
      "outputs": [
        {
          "output_type": "execute_result",
          "data": {
            "text/plain": [
              "[4, 5, ['target']]"
            ]
          },
          "metadata": {},
          "execution_count": 18
        }
      ]
    },
    {
      "cell_type": "code",
      "metadata": {
        "id": "g12ER9D4ojQy",
        "colab": {
          "base_uri": "https://localhost:8080/"
        },
        "outputId": "a09927fc-61ea-4856-d4d1-cd9e35f08e68"
      },
      "source": [
        "nest[3][2]"
      ],
      "execution_count": null,
      "outputs": [
        {
          "output_type": "execute_result",
          "data": {
            "text/plain": [
              "['target']"
            ]
          },
          "metadata": {},
          "execution_count": 19
        }
      ]
    },
    {
      "cell_type": "code",
      "metadata": {
        "id": "T76L8MUlojQ2",
        "colab": {
          "base_uri": "https://localhost:8080/"
        },
        "outputId": "b2727fe7-eff0-4dff-a5b1-8b7e2bbaa42c"
      },
      "source": [
        "nest[3][2][0]"
      ],
      "execution_count": null,
      "outputs": [
        {
          "output_type": "execute_result",
          "data": {
            "application/vnd.google.colaboratory.intrinsic+json": {
              "type": "string"
            },
            "text/plain": [
              "'target'"
            ]
          },
          "metadata": {},
          "execution_count": 20
        }
      ]
    },
    {
      "cell_type": "markdown",
      "metadata": {
        "id": "pbNzQeM8ojQ6"
      },
      "source": [
        "### Dicionários"
      ]
    },
    {
      "cell_type": "code",
      "metadata": {
        "id": "gQNDgm6eojQ8"
      },
      "source": [
        "d = {'chave1':'item1','chave2':'item2'}"
      ],
      "execution_count": null,
      "outputs": []
    },
    {
      "cell_type": "code",
      "metadata": {
        "id": "idPp4q2xojRA",
        "colab": {
          "base_uri": "https://localhost:8080/"
        },
        "outputId": "f2ff9314-78e9-46cc-f7fa-7648e273925c"
      },
      "source": [
        "d"
      ],
      "execution_count": null,
      "outputs": [
        {
          "output_type": "execute_result",
          "data": {
            "text/plain": [
              "{'chave1': 'item1', 'chave2': 'item2'}"
            ]
          },
          "metadata": {
            "tags": []
          },
          "execution_count": 35
        }
      ]
    },
    {
      "cell_type": "code",
      "metadata": {
        "id": "ZxtFhUDtojRF",
        "colab": {
          "base_uri": "https://localhost:8080/"
        },
        "outputId": "5cb84ebc-97c2-4552-cc21-f0c76bc02390"
      },
      "source": [
        "d['chave1']"
      ],
      "execution_count": null,
      "outputs": [
        {
          "output_type": "execute_result",
          "data": {
            "text/plain": [
              "'item1'"
            ]
          },
          "metadata": {
            "tags": []
          },
          "execution_count": 36
        }
      ]
    },
    {
      "cell_type": "markdown",
      "metadata": {
        "id": "3RUkZLt8ojRI"
      },
      "source": [
        "### Booleanos"
      ]
    },
    {
      "cell_type": "code",
      "metadata": {
        "id": "xkBShX1PojRJ",
        "colab": {
          "base_uri": "https://localhost:8080/"
        },
        "outputId": "f7b72578-c892-4dc8-ef0e-f618bcd92da8"
      },
      "source": [
        "True"
      ],
      "execution_count": null,
      "outputs": [
        {
          "output_type": "execute_result",
          "data": {
            "text/plain": [
              "True"
            ]
          },
          "metadata": {
            "tags": []
          },
          "execution_count": 37
        }
      ]
    },
    {
      "cell_type": "code",
      "metadata": {
        "id": "Kvq0-hCOojRO",
        "colab": {
          "base_uri": "https://localhost:8080/"
        },
        "outputId": "ba9ea929-4c46-4f50-91f9-5ca8c355d422"
      },
      "source": [
        "False"
      ],
      "execution_count": null,
      "outputs": [
        {
          "output_type": "execute_result",
          "data": {
            "text/plain": [
              "False"
            ]
          },
          "metadata": {
            "tags": []
          },
          "execution_count": 38
        }
      ]
    },
    {
      "cell_type": "markdown",
      "metadata": {
        "id": "rZSZxMVgojRT"
      },
      "source": [
        "### Tuplas"
      ]
    },
    {
      "cell_type": "code",
      "metadata": {
        "id": "1bJYVGIMojRV"
      },
      "source": [
        "t = (1,2,3)"
      ],
      "execution_count": null,
      "outputs": []
    },
    {
      "cell_type": "code",
      "metadata": {
        "scrolled": true,
        "id": "j9y0BU0vojRa",
        "colab": {
          "base_uri": "https://localhost:8080/",
          "height": 34
        },
        "outputId": "58d6bfb2-3110-4e95-8944-9e697f072b8d"
      },
      "source": [
        "t[0]"
      ],
      "execution_count": null,
      "outputs": [
        {
          "output_type": "execute_result",
          "data": {
            "text/plain": [
              "1"
            ]
          },
          "metadata": {
            "tags": []
          },
          "execution_count": 40
        }
      ]
    },
    {
      "cell_type": "code",
      "metadata": {
        "id": "iiqC5ZBMojRf",
        "colab": {
          "base_uri": "https://localhost:8080/",
          "height": 34
        },
        "outputId": "aa993ba0-7aac-47e6-ffb4-f2f36e939dea"
      },
      "source": [
        "t2 = list(t)\n",
        "t2[0] = 'NEW'\n",
        "t = t2\n",
        "t[0]"
      ],
      "execution_count": null,
      "outputs": [
        {
          "output_type": "execute_result",
          "data": {
            "text/plain": [
              "'NEW'"
            ]
          },
          "metadata": {
            "tags": []
          },
          "execution_count": 100
        }
      ]
    },
    {
      "cell_type": "markdown",
      "metadata": {
        "id": "G8ascI_hojRm"
      },
      "source": [
        "### Sets"
      ]
    },
    {
      "cell_type": "code",
      "metadata": {
        "id": "SVHqmUxZojRn",
        "colab": {
          "base_uri": "https://localhost:8080/",
          "height": 34
        },
        "outputId": "43974d0e-483e-4a4d-f5e4-3bb4d2000eea"
      },
      "source": [
        "{1,2,3}"
      ],
      "execution_count": null,
      "outputs": [
        {
          "output_type": "execute_result",
          "data": {
            "text/plain": [
              "{1, 2, 3}"
            ]
          },
          "metadata": {
            "tags": []
          },
          "execution_count": 42
        }
      ]
    },
    {
      "cell_type": "code",
      "metadata": {
        "id": "QVabt9PSojRs",
        "colab": {
          "base_uri": "https://localhost:8080/",
          "height": 34
        },
        "outputId": "8367bd03-a70f-404d-8c8f-2a891c33020a"
      },
      "source": [
        "{1,2,3,1,2,1,2,3,3,3,3,2,2,2,1,1,2}"
      ],
      "execution_count": null,
      "outputs": [
        {
          "output_type": "execute_result",
          "data": {
            "text/plain": [
              "{1, 2, 3}"
            ]
          },
          "metadata": {
            "tags": []
          },
          "execution_count": 43
        }
      ]
    },
    {
      "cell_type": "markdown",
      "metadata": {
        "id": "uV6fHfOBojRv"
      },
      "source": [
        "## Operadores de comparação"
      ]
    },
    {
      "cell_type": "code",
      "metadata": {
        "id": "lPld3JmtojRw",
        "colab": {
          "base_uri": "https://localhost:8080/",
          "height": 34
        },
        "outputId": "fcf1fe97-70ca-449e-8f30-f5513fd3ad60"
      },
      "source": [
        "1 > 2"
      ],
      "execution_count": null,
      "outputs": [
        {
          "output_type": "execute_result",
          "data": {
            "text/plain": [
              "False"
            ]
          },
          "metadata": {
            "tags": []
          },
          "execution_count": 44
        }
      ]
    },
    {
      "cell_type": "code",
      "metadata": {
        "id": "aB07PzjtojR2",
        "colab": {
          "base_uri": "https://localhost:8080/",
          "height": 34
        },
        "outputId": "83c1f562-6bf3-4b38-e60e-db56a600d288"
      },
      "source": [
        "1 < 2"
      ],
      "execution_count": null,
      "outputs": [
        {
          "output_type": "execute_result",
          "data": {
            "text/plain": [
              "True"
            ]
          },
          "metadata": {
            "tags": []
          },
          "execution_count": 45
        }
      ]
    },
    {
      "cell_type": "code",
      "metadata": {
        "id": "0rdBGccvojR5",
        "colab": {
          "base_uri": "https://localhost:8080/",
          "height": 34
        },
        "outputId": "c84110c4-7e44-4d99-c958-4c033a98d1b3"
      },
      "source": [
        "1 >= 1"
      ],
      "execution_count": null,
      "outputs": [
        {
          "output_type": "execute_result",
          "data": {
            "text/plain": [
              "True"
            ]
          },
          "metadata": {
            "tags": []
          },
          "execution_count": 46
        }
      ]
    },
    {
      "cell_type": "code",
      "metadata": {
        "id": "QY9nwBrcojR-",
        "colab": {
          "base_uri": "https://localhost:8080/",
          "height": 34
        },
        "outputId": "dbb279c1-4846-44e2-f3d5-40e505db9ca8"
      },
      "source": [
        "1 <= 4"
      ],
      "execution_count": null,
      "outputs": [
        {
          "output_type": "execute_result",
          "data": {
            "text/plain": [
              "True"
            ]
          },
          "metadata": {
            "tags": []
          },
          "execution_count": 47
        }
      ]
    },
    {
      "cell_type": "code",
      "metadata": {
        "id": "057Sbf0GojSB",
        "colab": {
          "base_uri": "https://localhost:8080/",
          "height": 34
        },
        "outputId": "f9abe556-caf5-4e2b-9575-6633100d4a4d"
      },
      "source": [
        "1 == 1"
      ],
      "execution_count": null,
      "outputs": [
        {
          "output_type": "execute_result",
          "data": {
            "text/plain": [
              "True"
            ]
          },
          "metadata": {
            "tags": []
          },
          "execution_count": 48
        }
      ]
    },
    {
      "cell_type": "code",
      "metadata": {
        "id": "3C8Yix0JojSF",
        "colab": {
          "base_uri": "https://localhost:8080/",
          "height": 34
        },
        "outputId": "044fcc84-9ca0-4a38-ce82-ff011c9c15ba"
      },
      "source": [
        "'oi' == 'tchau'"
      ],
      "execution_count": null,
      "outputs": [
        {
          "output_type": "execute_result",
          "data": {
            "text/plain": [
              "False"
            ]
          },
          "metadata": {
            "tags": []
          },
          "execution_count": 49
        }
      ]
    },
    {
      "cell_type": "markdown",
      "metadata": {
        "id": "x4rEirb0ojSJ"
      },
      "source": [
        "## Operadores lógicos"
      ]
    },
    {
      "cell_type": "code",
      "metadata": {
        "id": "pGb7gHfUojSK",
        "colab": {
          "base_uri": "https://localhost:8080/"
        },
        "outputId": "2c7873f4-c043-4e44-98b4-40bc83353135"
      },
      "source": [
        "(1 > 2) and (2 < 3)"
      ],
      "execution_count": null,
      "outputs": [
        {
          "output_type": "execute_result",
          "data": {
            "text/plain": [
              "False"
            ]
          },
          "metadata": {
            "tags": []
          },
          "execution_count": 50
        }
      ]
    },
    {
      "cell_type": "code",
      "metadata": {
        "id": "SuXz0588ojSO",
        "colab": {
          "base_uri": "https://localhost:8080/"
        },
        "outputId": "ae54fc16-d179-4289-e89c-204cffc38c1d"
      },
      "source": [
        "(1 > 2) or (2 < 3)"
      ],
      "execution_count": null,
      "outputs": [
        {
          "output_type": "execute_result",
          "data": {
            "text/plain": [
              "True"
            ]
          },
          "metadata": {
            "tags": []
          },
          "execution_count": 51
        }
      ]
    },
    {
      "cell_type": "code",
      "metadata": {
        "id": "a8ySLLqEojSS",
        "colab": {
          "base_uri": "https://localhost:8080/"
        },
        "outputId": "b67b07cb-e1e6-4250-9723-bce8d9e62297"
      },
      "source": [
        "(1 == 2) or (2 == 3) or (4 == 4)"
      ],
      "execution_count": null,
      "outputs": [
        {
          "output_type": "execute_result",
          "data": {
            "text/plain": [
              "True"
            ]
          },
          "metadata": {
            "tags": []
          },
          "execution_count": 52
        }
      ]
    },
    {
      "cell_type": "markdown",
      "metadata": {
        "id": "Qgp4MEhtojSW"
      },
      "source": [
        "## if,elif, else"
      ]
    },
    {
      "cell_type": "code",
      "metadata": {
        "id": "Dm9bar-vojSX",
        "colab": {
          "base_uri": "https://localhost:8080/"
        },
        "outputId": "1723f3e1-37bc-437e-a6fb-9b6e0e81a8c9"
      },
      "source": [
        "if 1 < 2:\n",
        "    print('Sim!')\n",
        "    print('A')\n",
        "print('Fora')"
      ],
      "execution_count": null,
      "outputs": [
        {
          "output_type": "stream",
          "text": [
            "Sim!\n"
          ],
          "name": "stdout"
        }
      ]
    },
    {
      "cell_type": "code",
      "metadata": {
        "id": "ckgs2lSXojSg",
        "colab": {
          "base_uri": "https://localhost:8080/"
        },
        "outputId": "b94ea8d7-81a2-45d2-9969-3a74a2d466ce"
      },
      "source": [
        "if 1 < 2:\n",
        "    print('Primeiro')\n",
        "else:\n",
        "    print('Último')"
      ],
      "execution_count": null,
      "outputs": [
        {
          "output_type": "stream",
          "text": [
            "Primeiro\n"
          ],
          "name": "stdout"
        }
      ]
    },
    {
      "cell_type": "code",
      "metadata": {
        "id": "7l-dFoBEojSk",
        "colab": {
          "base_uri": "https://localhost:8080/"
        },
        "outputId": "a4782f18-cb16-4686-d694-484cb44fda4e"
      },
      "source": [
        "if 1 > 2:\n",
        "    print('Primeiro')\n",
        "else:\n",
        "    print('Último')"
      ],
      "execution_count": null,
      "outputs": [
        {
          "output_type": "stream",
          "text": [
            "Último\n"
          ],
          "name": "stdout"
        }
      ]
    },
    {
      "cell_type": "code",
      "metadata": {
        "id": "4z9GA0HsojSo",
        "colab": {
          "base_uri": "https://localhost:8080/"
        },
        "outputId": "e7b10b9e-e464-4df0-8bb2-e7abd6e9a04f"
      },
      "source": [
        "if 1 == 2:\n",
        "    print('Primeiro')\n",
        "elif 3 == 3:\n",
        "    print('Meio')\n",
        "else:\n",
        "    print('Último')"
      ],
      "execution_count": null,
      "outputs": [
        {
          "output_type": "stream",
          "text": [
            "Meio\n"
          ],
          "name": "stdout"
        }
      ]
    },
    {
      "cell_type": "markdown",
      "metadata": {
        "id": "pgBCwBruojSs"
      },
      "source": [
        "## for Loops"
      ]
    },
    {
      "cell_type": "code",
      "metadata": {
        "id": "EgwZFUMDojSt"
      },
      "source": [
        "seq = [1,2,3,4,5]"
      ],
      "execution_count": null,
      "outputs": []
    },
    {
      "cell_type": "code",
      "metadata": {
        "id": "ZBwE8TwlojSw",
        "colab": {
          "base_uri": "https://localhost:8080/"
        },
        "outputId": "2b91fd8f-501d-47ca-8fdf-afae3413dd8e"
      },
      "source": [
        "for item in seq:\n",
        "    print(item)"
      ],
      "execution_count": null,
      "outputs": [
        {
          "output_type": "stream",
          "text": [
            "1\n",
            "2\n",
            "3\n",
            "4\n",
            "5\n"
          ],
          "name": "stdout"
        }
      ]
    },
    {
      "cell_type": "code",
      "metadata": {
        "id": "0y890Ie0ojS0",
        "colab": {
          "base_uri": "https://localhost:8080/"
        },
        "outputId": "a695712a-2a68-4535-a6b4-def109ca1236"
      },
      "source": [
        "for item in seq:\n",
        "    print('!')"
      ],
      "execution_count": null,
      "outputs": [
        {
          "output_type": "stream",
          "text": [
            "!\n",
            "!\n",
            "!\n",
            "!\n",
            "!\n"
          ],
          "name": "stdout"
        }
      ]
    },
    {
      "cell_type": "code",
      "metadata": {
        "id": "AsUxXlOQojS3",
        "colab": {
          "base_uri": "https://localhost:8080/"
        },
        "outputId": "7355e3af-491a-465e-a711-81c12bf21b16"
      },
      "source": [
        "for outra_coisa in seq:\n",
        "    print(outra_coisa+outra_coisa)"
      ],
      "execution_count": null,
      "outputs": [
        {
          "output_type": "stream",
          "text": [
            "2\n",
            "4\n",
            "6\n",
            "8\n",
            "10\n"
          ],
          "name": "stdout"
        }
      ]
    },
    {
      "cell_type": "code",
      "metadata": {
        "id": "S1plMGWYqR3y",
        "colab": {
          "base_uri": "https://localhost:8080/",
          "height": 104
        },
        "outputId": "2c75ff91-e1b1-4ad8-cad2-05d107bb7f87"
      },
      "source": [
        "for i in range(1,10,2):\n",
        "  print(i)"
      ],
      "execution_count": null,
      "outputs": [
        {
          "output_type": "stream",
          "text": [
            "1\n",
            "3\n",
            "5\n",
            "7\n",
            "9\n"
          ],
          "name": "stdout"
        }
      ]
    },
    {
      "cell_type": "markdown",
      "metadata": {
        "id": "XiahUeWjojS6"
      },
      "source": [
        "## while Loops"
      ]
    },
    {
      "cell_type": "code",
      "metadata": {
        "id": "g7uI43CmojS7",
        "colab": {
          "base_uri": "https://localhost:8080/"
        },
        "outputId": "b1ffaba5-7b76-4e23-dc4b-8747852e0f21"
      },
      "source": [
        "i = 1\n",
        "while i < 5:\n",
        "    print('i is: {}'.format(i))\n",
        "    i = i+1"
      ],
      "execution_count": null,
      "outputs": [
        {
          "output_type": "stream",
          "text": [
            "i is: 1\n",
            "i is: 2\n",
            "i is: 3\n",
            "i is: 4\n"
          ],
          "name": "stdout"
        }
      ]
    },
    {
      "cell_type": "markdown",
      "metadata": {
        "id": "rKZ5mVocojS_"
      },
      "source": [
        "## range()"
      ]
    },
    {
      "cell_type": "code",
      "metadata": {
        "id": "8HWZZVmIojTA",
        "colab": {
          "base_uri": "https://localhost:8080/"
        },
        "outputId": "63b40181-05af-4a50-fe8e-3ca2336df094"
      },
      "source": [
        "range(5)"
      ],
      "execution_count": null,
      "outputs": [
        {
          "output_type": "execute_result",
          "data": {
            "text/plain": [
              "range(0, 5)"
            ]
          },
          "metadata": {
            "tags": []
          },
          "execution_count": 62
        }
      ]
    },
    {
      "cell_type": "code",
      "metadata": {
        "id": "xTXqD9JSojTD",
        "colab": {
          "base_uri": "https://localhost:8080/"
        },
        "outputId": "5feb8afd-dca1-41df-96d7-1c6935ee5e8f"
      },
      "source": [
        "for i in range(5):\n",
        "    print(i)"
      ],
      "execution_count": null,
      "outputs": [
        {
          "output_type": "stream",
          "text": [
            "0\n",
            "1\n",
            "2\n",
            "3\n",
            "4\n"
          ],
          "name": "stdout"
        }
      ]
    },
    {
      "cell_type": "code",
      "metadata": {
        "id": "aAvWqkaGojTI",
        "colab": {
          "base_uri": "https://localhost:8080/"
        },
        "outputId": "54ca200a-dad4-4e18-d93c-0b51f6b37181"
      },
      "source": [
        "list(range(5))"
      ],
      "execution_count": null,
      "outputs": [
        {
          "output_type": "execute_result",
          "data": {
            "text/plain": [
              "[0, 1, 2, 3, 4]"
            ]
          },
          "metadata": {
            "tags": []
          },
          "execution_count": 64
        }
      ]
    },
    {
      "cell_type": "markdown",
      "metadata": {
        "id": "fx-wHU5DojTM"
      },
      "source": [
        "## list comprehension"
      ]
    },
    {
      "cell_type": "code",
      "metadata": {
        "id": "pniWiGk4ojTO"
      },
      "source": [
        "x = [1,2,3,4]"
      ],
      "execution_count": null,
      "outputs": []
    },
    {
      "cell_type": "code",
      "metadata": {
        "id": "cgejNcZMojTT",
        "colab": {
          "base_uri": "https://localhost:8080/"
        },
        "outputId": "48356aff-8bcc-43ea-b290-f5ae42307fb1"
      },
      "source": [
        "out = []\n",
        "for item in x:\n",
        "    out.append(item**2)\n",
        "print(out)"
      ],
      "execution_count": null,
      "outputs": [
        {
          "output_type": "stream",
          "text": [
            "[1, 4, 9, 16]\n"
          ],
          "name": "stdout"
        }
      ]
    },
    {
      "cell_type": "code",
      "metadata": {
        "id": "fd0ROooeojTW",
        "colab": {
          "base_uri": "https://localhost:8080/"
        },
        "outputId": "e320d729-4c4d-4bfc-dae7-e42a396d57a7"
      },
      "source": [
        "[item**2 for item in x]"
      ],
      "execution_count": null,
      "outputs": [
        {
          "output_type": "execute_result",
          "data": {
            "text/plain": [
              "[1, 4, 9, 16]"
            ]
          },
          "metadata": {
            "tags": []
          },
          "execution_count": 67
        }
      ]
    },
    {
      "cell_type": "markdown",
      "metadata": {
        "id": "SuVLbAD5ojTZ"
      },
      "source": [
        "## Funções"
      ]
    },
    {
      "cell_type": "code",
      "metadata": {
        "id": "OGbmlmvMojTa"
      },
      "source": [
        "def my_func(param1='default'):\n",
        "    \"\"\"\n",
        "    Documentação da função vai aqui.\n",
        "    \"\"\"\n",
        "    print(param1)"
      ],
      "execution_count": null,
      "outputs": []
    },
    {
      "cell_type": "code",
      "metadata": {
        "id": "0r4eDplVojTd",
        "colab": {
          "base_uri": "https://localhost:8080/"
        },
        "outputId": "e3feeef7-98fb-4d19-8f8d-623c2f98d247"
      },
      "source": [
        "my_func"
      ],
      "execution_count": null,
      "outputs": [
        {
          "output_type": "execute_result",
          "data": {
            "text/plain": [
              "<function __main__.my_func>"
            ]
          },
          "metadata": {
            "tags": []
          },
          "execution_count": 69
        }
      ]
    },
    {
      "cell_type": "code",
      "metadata": {
        "id": "jkq76FOiojTg",
        "colab": {
          "base_uri": "https://localhost:8080/"
        },
        "outputId": "76332eb2-6546-4d9d-c062-34c73c1b6a03"
      },
      "source": [
        "my_func()"
      ],
      "execution_count": null,
      "outputs": [
        {
          "output_type": "stream",
          "text": [
            "default\n"
          ],
          "name": "stdout"
        }
      ]
    },
    {
      "cell_type": "code",
      "metadata": {
        "id": "DUkgqsTSojTn",
        "colab": {
          "base_uri": "https://localhost:8080/"
        },
        "outputId": "4d97ab9b-d31f-41b7-ca25-45ecb612f824"
      },
      "source": [
        "my_func('novo parametro')"
      ],
      "execution_count": null,
      "outputs": [
        {
          "output_type": "stream",
          "text": [
            "novo parametro\n"
          ],
          "name": "stdout"
        }
      ]
    },
    {
      "cell_type": "code",
      "metadata": {
        "id": "2jr8IEo9ojTq",
        "colab": {
          "base_uri": "https://localhost:8080/"
        },
        "outputId": "cb243c75-cb51-45a0-bc30-54cd0f27d980"
      },
      "source": [
        "my_func(param1='novo parametro')"
      ],
      "execution_count": null,
      "outputs": [
        {
          "output_type": "stream",
          "text": [
            "novo parametro\n"
          ],
          "name": "stdout"
        }
      ]
    },
    {
      "cell_type": "code",
      "metadata": {
        "id": "Na6Y_wVWojTu"
      },
      "source": [
        "def square(x):\n",
        "    return x**2"
      ],
      "execution_count": null,
      "outputs": []
    },
    {
      "cell_type": "code",
      "metadata": {
        "id": "PrZWUc6tojUA"
      },
      "source": [
        "out = square(2)"
      ],
      "execution_count": null,
      "outputs": []
    },
    {
      "cell_type": "code",
      "metadata": {
        "scrolled": true,
        "id": "oHB1eqxqojUD",
        "colab": {
          "base_uri": "https://localhost:8080/"
        },
        "outputId": "dd333ed4-a3d8-4abb-bad1-fff8c49a58e1"
      },
      "source": [
        " print(out)"
      ],
      "execution_count": null,
      "outputs": [
        {
          "output_type": "stream",
          "text": [
            "4\n"
          ],
          "name": "stdout"
        }
      ]
    },
    {
      "cell_type": "markdown",
      "metadata": {
        "id": "9FuoaAFmojUG"
      },
      "source": [
        "## Expressões lambda"
      ]
    },
    {
      "cell_type": "code",
      "metadata": {
        "id": "lNLkTtPJojUH"
      },
      "source": [
        "def vezes2(var):\n",
        "    return var*2"
      ],
      "execution_count": null,
      "outputs": []
    },
    {
      "cell_type": "code",
      "metadata": {
        "id": "d1LCiUGlojUK",
        "colab": {
          "base_uri": "https://localhost:8080/"
        },
        "outputId": "234f1d9e-5a18-4300-93ae-9c3ff6f487fb"
      },
      "source": [
        "vezes2(2)"
      ],
      "execution_count": null,
      "outputs": [
        {
          "output_type": "execute_result",
          "data": {
            "text/plain": [
              "4"
            ]
          },
          "metadata": {
            "tags": []
          },
          "execution_count": 77
        }
      ]
    },
    {
      "cell_type": "code",
      "metadata": {
        "id": "8GtlV1_MojUS",
        "colab": {
          "base_uri": "https://localhost:8080/",
          "height": 34
        },
        "outputId": "dd734d76-ba57-469e-9fcc-ada3246251b7"
      },
      "source": [
        "lambda var: var*2"
      ],
      "execution_count": null,
      "outputs": [
        {
          "output_type": "execute_result",
          "data": {
            "text/plain": [
              "<function __main__.<lambda>>"
            ]
          },
          "metadata": {
            "tags": []
          },
          "execution_count": 4
        }
      ]
    },
    {
      "cell_type": "markdown",
      "metadata": {
        "id": "h3f5EujkojUV"
      },
      "source": [
        "## map e filter"
      ]
    },
    {
      "cell_type": "code",
      "metadata": {
        "id": "ovjjpSA5ojUW"
      },
      "source": [
        "seq = [1,2,3,4,5]"
      ],
      "execution_count": null,
      "outputs": []
    },
    {
      "cell_type": "code",
      "metadata": {
        "id": "1I4aveSlojUa",
        "colab": {
          "base_uri": "https://localhost:8080/"
        },
        "outputId": "ef6f5d01-b2c9-4a12-b883-e98303f6393b"
      },
      "source": [
        "map(vezes2,seq)"
      ],
      "execution_count": null,
      "outputs": [
        {
          "output_type": "execute_result",
          "data": {
            "text/plain": [
              "<map at 0x7f8ed1e27c50>"
            ]
          },
          "metadata": {
            "tags": []
          },
          "execution_count": 80
        }
      ]
    },
    {
      "cell_type": "code",
      "metadata": {
        "id": "V1Z6YFk-ojUe",
        "colab": {
          "base_uri": "https://localhost:8080/"
        },
        "outputId": "2080a6be-a8f6-4675-9e24-43b58bf2b0bc"
      },
      "source": [
        "list(map(vezes2,seq))"
      ],
      "execution_count": null,
      "outputs": [
        {
          "output_type": "execute_result",
          "data": {
            "text/plain": [
              "[2, 4, 6, 8, 10]"
            ]
          },
          "metadata": {
            "tags": []
          },
          "execution_count": 81
        }
      ]
    },
    {
      "cell_type": "code",
      "metadata": {
        "id": "1WI8nFaqojUj",
        "colab": {
          "base_uri": "https://localhost:8080/"
        },
        "outputId": "cea981ef-64a9-4692-ed3a-f058f7020caa"
      },
      "source": [
        "list(map(lambda var: var*2,seq))"
      ],
      "execution_count": null,
      "outputs": [
        {
          "output_type": "execute_result",
          "data": {
            "text/plain": [
              "[2, 4, 6, 8, 10]"
            ]
          },
          "metadata": {
            "tags": []
          },
          "execution_count": 82
        }
      ]
    },
    {
      "cell_type": "code",
      "metadata": {
        "id": "gwSbw6W_ojUp",
        "colab": {
          "base_uri": "https://localhost:8080/"
        },
        "outputId": "450e2e36-24ad-4a52-f7d1-bc3aa41e723d"
      },
      "source": [
        "filter(lambda item: item%2 == 0,seq)"
      ],
      "execution_count": null,
      "outputs": [
        {
          "output_type": "execute_result",
          "data": {
            "text/plain": [
              "<filter at 0x7f8ed1e27f28>"
            ]
          },
          "metadata": {
            "tags": []
          },
          "execution_count": 83
        }
      ]
    },
    {
      "cell_type": "code",
      "metadata": {
        "id": "iPNcUm26ojUs",
        "colab": {
          "base_uri": "https://localhost:8080/"
        },
        "outputId": "1c7484e7-4514-465d-d1b7-a96146a92716"
      },
      "source": [
        "list(filter(lambda item: item%2 == 0,seq))"
      ],
      "execution_count": null,
      "outputs": [
        {
          "output_type": "execute_result",
          "data": {
            "text/plain": [
              "[2, 4]"
            ]
          },
          "metadata": {
            "tags": []
          },
          "execution_count": 84
        }
      ]
    },
    {
      "cell_type": "markdown",
      "metadata": {
        "id": "U-r0VVQfojUw"
      },
      "source": [
        "## Métodos"
      ]
    },
    {
      "cell_type": "code",
      "metadata": {
        "id": "k0mTvVaRojUy"
      },
      "source": [
        "st = 'Olá, me chamo Sam'"
      ],
      "execution_count": null,
      "outputs": []
    },
    {
      "cell_type": "code",
      "metadata": {
        "id": "olGWIv1dojU1",
        "colab": {
          "base_uri": "https://localhost:8080/"
        },
        "outputId": "d2e956d8-29e0-44d7-8725-97f79282ab0e"
      },
      "source": [
        "st.lower()"
      ],
      "execution_count": null,
      "outputs": [
        {
          "output_type": "execute_result",
          "data": {
            "text/plain": [
              "'olá, me chamo sam'"
            ]
          },
          "metadata": {
            "tags": []
          },
          "execution_count": 86
        }
      ]
    },
    {
      "cell_type": "code",
      "metadata": {
        "id": "ER7KfH8FojU4",
        "colab": {
          "base_uri": "https://localhost:8080/"
        },
        "outputId": "e23622b0-da66-408c-fe18-8b1fb7b01b6b"
      },
      "source": [
        "st.upper()"
      ],
      "execution_count": null,
      "outputs": [
        {
          "output_type": "execute_result",
          "data": {
            "text/plain": [
              "'OLÁ, ME CHAMO SAM'"
            ]
          },
          "metadata": {
            "tags": []
          },
          "execution_count": 87
        }
      ]
    },
    {
      "cell_type": "code",
      "metadata": {
        "id": "XFRUKXvSojU6",
        "colab": {
          "base_uri": "https://localhost:8080/"
        },
        "outputId": "e8c28380-b69f-4775-9ee1-e5eb2d307f05"
      },
      "source": [
        "st.split()"
      ],
      "execution_count": null,
      "outputs": [
        {
          "output_type": "execute_result",
          "data": {
            "text/plain": [
              "['Olá,', 'me', 'chamo', 'Sam']"
            ]
          },
          "metadata": {
            "tags": []
          },
          "execution_count": 88
        }
      ]
    },
    {
      "cell_type": "code",
      "metadata": {
        "id": "MSha8e9RojU9"
      },
      "source": [
        "tweet = 'Dale Grêmio! #Gremio'"
      ],
      "execution_count": null,
      "outputs": []
    },
    {
      "cell_type": "code",
      "metadata": {
        "id": "sXr3FjwqojVA",
        "colab": {
          "base_uri": "https://localhost:8080/"
        },
        "outputId": "66f3051a-5078-4413-f868-a0eda7a6b839"
      },
      "source": [
        "tweet.split('#')"
      ],
      "execution_count": null,
      "outputs": [
        {
          "output_type": "execute_result",
          "data": {
            "text/plain": [
              "['Dale Grêmio! ', 'Gremio']"
            ]
          },
          "metadata": {
            "tags": []
          },
          "execution_count": 90
        }
      ]
    },
    {
      "cell_type": "code",
      "metadata": {
        "id": "2Wt_hel9ojVE",
        "colab": {
          "base_uri": "https://localhost:8080/"
        },
        "outputId": "5754b24c-cf13-4373-ad39-94a430b5a4e3"
      },
      "source": [
        "tweet.split('#')[1]"
      ],
      "execution_count": null,
      "outputs": [
        {
          "output_type": "execute_result",
          "data": {
            "text/plain": [
              "'Gremio'"
            ]
          },
          "metadata": {
            "tags": []
          },
          "execution_count": 91
        }
      ]
    },
    {
      "cell_type": "code",
      "metadata": {
        "id": "gBiFUFI1ojVH",
        "colab": {
          "base_uri": "https://localhost:8080/"
        },
        "outputId": "cea620b2-ec53-4129-d716-c9f718e23823"
      },
      "source": [
        "d"
      ],
      "execution_count": null,
      "outputs": [
        {
          "output_type": "execute_result",
          "data": {
            "text/plain": [
              "{'chave1': 'item1', 'chave2': 'item2'}"
            ]
          },
          "metadata": {
            "tags": []
          },
          "execution_count": 92
        }
      ]
    },
    {
      "cell_type": "code",
      "metadata": {
        "id": "wZTYqYR1ojVK",
        "colab": {
          "base_uri": "https://localhost:8080/"
        },
        "outputId": "3e3e3644-7b83-439b-d86e-623049b199e6"
      },
      "source": [
        "d.keys()"
      ],
      "execution_count": null,
      "outputs": [
        {
          "output_type": "execute_result",
          "data": {
            "text/plain": [
              "dict_keys(['chave1', 'chave2'])"
            ]
          },
          "metadata": {
            "tags": []
          },
          "execution_count": 93
        }
      ]
    },
    {
      "cell_type": "code",
      "metadata": {
        "id": "Gy99w6VQojVN",
        "colab": {
          "base_uri": "https://localhost:8080/"
        },
        "outputId": "ee349b21-c1e1-45a8-f5d9-8ea12bd5ffd9"
      },
      "source": [
        "d.items()"
      ],
      "execution_count": null,
      "outputs": [
        {
          "output_type": "execute_result",
          "data": {
            "text/plain": [
              "dict_items([('chave1', 'item1'), ('chave2', 'item2')])"
            ]
          },
          "metadata": {
            "tags": []
          },
          "execution_count": 94
        }
      ]
    },
    {
      "cell_type": "code",
      "metadata": {
        "id": "hYKe9cDHojVQ"
      },
      "source": [
        "lst = [1,2,3]"
      ],
      "execution_count": null,
      "outputs": []
    },
    {
      "cell_type": "code",
      "metadata": {
        "id": "h-a-Pu_xojVT",
        "colab": {
          "base_uri": "https://localhost:8080/"
        },
        "outputId": "01b0f1c9-b2dc-4d47-e8e1-5af724ffda05"
      },
      "source": [
        "lst.pop()"
      ],
      "execution_count": null,
      "outputs": [
        {
          "output_type": "execute_result",
          "data": {
            "text/plain": [
              "3"
            ]
          },
          "metadata": {
            "tags": []
          },
          "execution_count": 96
        }
      ]
    },
    {
      "cell_type": "code",
      "metadata": {
        "id": "0c7sWE8wojVW",
        "colab": {
          "base_uri": "https://localhost:8080/"
        },
        "outputId": "1a10bbaa-841f-4ae5-83e1-d6a54ff26f97"
      },
      "source": [
        "lst"
      ],
      "execution_count": null,
      "outputs": [
        {
          "output_type": "execute_result",
          "data": {
            "text/plain": [
              "[1, 2]"
            ]
          },
          "metadata": {
            "tags": []
          },
          "execution_count": 97
        }
      ]
    },
    {
      "cell_type": "code",
      "metadata": {
        "id": "WdQ5FtP1ojVZ",
        "colab": {
          "base_uri": "https://localhost:8080/"
        },
        "outputId": "059343da-795a-47df-b737-bdde9c437870"
      },
      "source": [
        "'x' in [1,2,3]"
      ],
      "execution_count": null,
      "outputs": [
        {
          "output_type": "execute_result",
          "data": {
            "text/plain": [
              "False"
            ]
          },
          "metadata": {
            "tags": []
          },
          "execution_count": 98
        }
      ]
    },
    {
      "cell_type": "code",
      "metadata": {
        "scrolled": true,
        "id": "6enXqDVDojVd",
        "colab": {
          "base_uri": "https://localhost:8080/"
        },
        "outputId": "fb774e8a-e727-4c02-fed4-0b4e76f7ba63"
      },
      "source": [
        "'x' in ['x','y','z']"
      ],
      "execution_count": null,
      "outputs": [
        {
          "output_type": "execute_result",
          "data": {
            "text/plain": [
              "True"
            ]
          },
          "metadata": {
            "tags": []
          },
          "execution_count": 99
        }
      ]
    }
  ]
}